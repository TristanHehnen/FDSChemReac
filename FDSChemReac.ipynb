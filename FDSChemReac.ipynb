{
 "cells": [
  {
   "cell_type": "code",
   "execution_count": 17,
   "metadata": {},
   "outputs": [],
   "source": [
    "import numpy as np\n",
    "\n",
    "from Resources.FDS.PeriodicTableFDS653 import PeriodicTable as PT\n",
    "from Resources.ChemicalSpecies import ChemicalSpecies as CS"
   ]
  },
  {
   "cell_type": "code",
   "execution_count": null,
   "metadata": {},
   "outputs": [],
   "source": [
    "# Define hydrogen atomic fraction in soot.\n",
    "X_H = 0.1\n",
    "\n",
    "\n",
    "# Define CO and soot yields.\n",
    "y_CO = 0\n",
    "y_Soot = 0.01"
   ]
  },
  {
   "cell_type": "code",
   "execution_count": 15,
   "metadata": {},
   "outputs": [
    {
     "name": "stdout",
     "output_type": "stream",
     "text": [
      "['CARBON', 12.0107] ['HYDROGEN', 1.00794] ['OXYGEN', 15.9994] ['NITROGEN', 14.0067] ['CHLORINE', 35.453]\n"
     ]
    }
   ],
   "source": [
    "print(PT['C'], \n",
    "      PT['H'], \n",
    "      PT['O'], \n",
    "      PT['N'], \n",
    "      PT['Cl'])"
   ]
  },
  {
   "cell_type": "code",
   "execution_count": 2,
   "metadata": {
    "collapsed": true
   },
   "outputs": [],
   "source": [
    "# Calculation of stoichiometry data for FDS input files. \n",
    "# Fuel is expected to be a list of the following structure: [C,H,O,N,CL]. \n",
    "# Elements in this list are coefficients (float) of the chemical formula.\n",
    "# Fuel label is expected to be a string, will be used for the REAC_ID.\n",
    "# Various yields can be specified, as well as the percentage of hydrogen \n",
    "# in the soot.\n",
    "def stoichiometry(fuel,\n",
    "                  fuel_label,\n",
    "                  oxydizer_label,\n",
    "                  product_label,\n",
    "                  co2_yield=0.0,\n",
    "                  co_yield=0.0,\n",
    "                  soot_yield=0.0,\n",
    "                  soot_h_fraction=0.0,\n",
    "                  simple_air=False):\n",
    "    \n",
    "    # Calculate the molecular weight of the fuel molecule, in g/mol.\n",
    "    w_fuel = fuel[0] * cMolWeight + \\\n",
    "             fuel[1] * hMolWeight + \\\n",
    "             fuel[2] * oMolWeight + \\\n",
    "             fuel[3] * nMolWeight + \\\n",
    "             fuel[4] * clMolWeight\n",
    "    \n",
    "    # Calculate the molecular weight of the soot, in g/mol.\n",
    "    w_s = soot_h_fraction * hMolWeight + (1 - soot_h_fraction) * cMolWeight\n",
    "    print('Soot weight:')\n",
    "    print(w_s)\n",
    "    \n",
    "    # Calculate the stoichiometric coefficient of nitrogen; gas (products).\n",
    "    # Nu means the greek letter.\n",
    "    nu_n2 = fuel[3]/2\n",
    "    print('Nu N2:')\n",
    "    print(nu_n2)\n",
    "    \n",
    "    # Calculate the stoichiometric coefficient of soot; solid (products).\n",
    "    # nu_s = w_fuel / w_s * soot_yield\n",
    "    nu_s = stoichiometric_coefficient(w_fuel, w_s, soot_yield)\n",
    "    print('Nu soot:')\n",
    "    print(nu_s)\n",
    "    \n",
    "    # Calculate the stoichiometric coefficient of \n",
    "    # carbon monoxide; gas (products).\n",
    "    # nu_co = w_fuel / co_mol_weight * co_yield\n",
    "    nu_co = stoichiometric_coefficient(w_fuel, co_mol_weight, co_yield)\n",
    "    print('Nu CO:')\n",
    "    print(nu_co)\n",
    "    \n",
    "    # Calculate the stoichiometric coefficient of \n",
    "    # hydrogen chloride; gas (products).\n",
    "    nu_hcl = fuel[4]\n",
    "    # nu_hcl = stoichiometric_coefficient(w_fuel, clMolWeight, hclYield)\n",
    "    print('Nu HCl:')\n",
    "    print(nu_hcl)\n",
    "    \n",
    "    # Calculate the stoichiometric coefficient of water; gas (products).\n",
    "    nu_h2o = fuel[1]/2 - soot_h_fraction / 2 * nu_s - fuel[4]\n",
    "    print('Nu H2O:')\n",
    "    print(nu_h2o)\n",
    "    \n",
    "    # Calculate the stoichiometric coefficient of \n",
    "    # carbon dioxide; gas (products).\n",
    "    nu_co2 = fuel[0] - nu_co - (1 - soot_h_fraction) * nu_s\n",
    "    print('Nu CO2:')\n",
    "    print(nu_co2)\n",
    "    \n",
    "    # Calculate the stoichiometric coefficient of \n",
    "    # oxygen; gas (reactants).\n",
    "    nu_o2 = nu_co2 + nu_co/2 + nu_h2o/2 - fuel[2]/2\n",
    "    print('Nu O2:')\n",
    "    print(nu_o2)\n",
    "\n",
    "    # Volume fraction\n",
    "    # Simple air follows the simplification that air consists out of 21 % \n",
    "    # of oxygen and 79 % of nitrogen.\n",
    "    if simple_air is False:\n",
    "        \n",
    "        # The air_demand is based on the amount of oxygen needed for the\n",
    "        # combustion. All the other components are scaled according to this \n",
    "        # value.\n",
    "        air_demand = nu_o2 / airVolFrac[1]\n",
    "        print('Air demand:')\n",
    "        print(air_demand)\n",
    "        print('nu_o2:')\n",
    "        print(nu_o2)\n",
    "        print('airVolFrac[1]:')\n",
    "        print(airVolFrac[1])\n",
    "\n",
    "        prod_n2 = air_demand * airVolFrac[0] + nu_n2\n",
    "        print('Product N2:')\n",
    "        print(prod_n2)\n",
    "        \n",
    "        prod_h2o = air_demand * airVolFrac[2] + nu_h2o\n",
    "        print('product H2O:')\n",
    "        print(prod_h2o)\n",
    "        \n",
    "        prod_co2 = air_demand * airVolFrac[3] + nu_co2\n",
    "        print('Product CO2:')\n",
    "        print(prod_co2)\n",
    "\n",
    "    elif simple_air is True:\n",
    "        air_demand = nu_o2 / airVolFracSimple[1]\n",
    "        print('Air demand:')\n",
    "        print(air_demand)\n",
    "\n",
    "        prod_n2 = air_demand * airVolFracSimple[0] + nu_n2\n",
    "        print('Product N2:')\n",
    "        print(prod_n2)\n",
    "        \n",
    "        prod_h2o = nu_h2o\n",
    "        print('product H2O:')\n",
    "        print(prod_h2o)\n",
    "        \n",
    "        prod_co2 = nu_co2\n",
    "        print('Product CO2:')\n",
    "        print(prod_co2)\n",
    "        pass\n",
    "    else:\n",
    "        print('Parameter \"simple_air\" needs to be True or False (bool)!')\n",
    "        \n",
    "    prod_hcl = nu_hcl\n",
    "    print('Product HCl:')\n",
    "    print(prod_hcl)\n",
    "    \n",
    "    prod_soot = nu_s\n",
    "    print('Product soot:')\n",
    "    print(prod_soot)\n",
    "    \n",
    "    prod_co = nu_co\n",
    "    print('Product CO:')\n",
    "    print(prod_co)\n",
    "    \n",
    "    # Calculate the total molar amount of all the products to normalise them.\n",
    "    total_product_mol = (prod_n2 + prod_co2 + prod_h2o +\n",
    "                         prod_hcl + prod_co + prod_soot)\n",
    "    \n",
    "    products = ['N2: '+str(prod_n2),\n",
    "                'CO2: '+str(prod_co2),\n",
    "                'H2O: '+str(prod_h2o),\n",
    "                'HCl: '+str(prod_hcl),\n",
    "                'CO: '+str(prod_co),\n",
    "                'Soot: '+str(prod_soot)]\n",
    "    \n",
    "    # Normalise products, used for lumped species.\n",
    "    products_normalised = [prod_n2/total_product_mol,\n",
    "                           prod_co2/total_product_mol,\n",
    "                           prod_h2o/total_product_mol,\n",
    "                           prod_hcl/total_product_mol,\n",
    "                           prod_co/total_product_mol,\n",
    "                           prod_soot/total_product_mol]\n",
    "    print(products_normalised)\n",
    "\n",
    "    # return air_demand,products,total_product_mol,products_normalised\n",
    "    \n",
    "    product_species = ['NITROGEN',\n",
    "                       'CARBON DIOXIDE',\n",
    "                       'WATER VAPOR',\n",
    "                       'HYDROGEN CHLORIDE',\n",
    "                       'CARBON MONOXIDE',\n",
    "                       'SOOT']\n",
    "    \n",
    "    species_invoke2, new_oxydizer = species_lump(oxydizer_label,\n",
    "                                                 airComponents,\n",
    "                                                 airVolFrac,\n",
    "                                                 speciesInvoke)\n",
    "    print(\"species_invoke2\")\n",
    "    print(species_invoke2)\n",
    "\n",
    "    species_invoke3, new_product = species_lump(product_label,\n",
    "                                                product_species,\n",
    "                                                products_normalised,\n",
    "                                                species_invoke2)\n",
    "    print(\"species_invoke2\")\n",
    "    print(species_invoke2)\n",
    "    \n",
    "    print(\"species_invoke3\")\n",
    "    print(species_invoke3)\n",
    "\n",
    "    reaction_para = [fuel_label,\n",
    "                     oxydizer_label,\n",
    "                     product_label,\n",
    "                     1,\n",
    "                     air_demand,\n",
    "                     total_product_mol]\n",
    "    new_reac = creat_reac_input(reaction_para[0], reaction_para)\n",
    "    \n",
    "    return species_invoke3, new_oxydizer, new_product, new_reac"
   ]
  },
  {
   "cell_type": "code",
   "execution_count": null,
   "metadata": {
    "collapsed": true
   },
   "outputs": [],
   "source": [
    "#    PRODUCTS\n",
    "#    Molecular Weight (g/mol)            28.57721\n",
    "#    Ambient Density (kg/m^3)            1.188\n",
    "#    Initial Mass Fraction               0.000\n",
    "#    Enthalpy of Formation (J/kg)     -2.84E+06\n",
    "\n",
    "#    Sub Species                    Mass Fraction     Mole Fraction\n",
    "#    NITROGEN                       7.016941E-01      7.158167E-01\n",
    "#    CARBON DIOXIDE                 2.175212E-01      1.412456E-01\n",
    "#    CARBON MONOXIDE                0.000000E+00      0.000000E+00\n",
    "#    WATER VAPOR                    6.646607E-02      1.054335E-01\n",
    "#    SOOT                           1.431862E-02      3.750416E-02"
   ]
  },
  {
   "cell_type": "code",
   "execution_count": null,
   "metadata": {
    "collapsed": true
   },
   "outputs": [],
   "source": [
    "#    AIR\n",
    "#    Molecular Weight (g/mol)            28.76564\n",
    "#    Ambient Density (kg/m^3)            1.196\n",
    "#    Initial Mass Fraction               1.000\n",
    "#    Enthalpy of Formation (J/kg)     -7.44E+04\n",
    "\n",
    "#    Sub Species                    Mass Fraction     Mole Fraction\n",
    "#    NITROGEN                       7.630774E-01      7.835682E-01\n",
    "#    OXYGEN                         2.311814E-01      2.078229E-01\n",
    "#    CARBON DIOXIDE                 5.919362E-04      3.869034E-04\n",
    "#    WATER VAPOR                    5.149269E-03      8.222023E-03"
   ]
  },
  {
   "cell_type": "code",
   "execution_count": null,
   "metadata": {
    "collapsed": true
   },
   "outputs": [],
   "source": [
    "#    Fuel                              Heat of Combustion (kJ/kg)\n",
    "#    TOLUENE                                           34963.6292\n",
    "\n",
    "#    Stoichiometry\n",
    "\n",
    "#    Primitive Species\n",
    "#    Species ID                                 Stoich. Coeff.\n",
    "#    TOLUENE                                            -1.000000\n",
    "#    NITROGEN                                           -0.000000\n",
    "#    OXYGEN                                             -7.609532\n",
    "#    CARBON DIOXIDE                                      5.647113\n",
    "#    WATER VAPOR                                         3.924840\n",
    "#    SOOT                                                1.503208\n",
    "\n",
    "#    Tracked (Lumped) Species\n",
    "#    Species ID                                 Stoich. Coeff.\n",
    "#    AIR                                            -36.615475\n",
    "#    TOLUENE                                         -1.000000\n",
    "#    PRODUCTS                                        40.081103"
   ]
  },
  {
   "cell_type": "code",
   "execution_count": null,
   "metadata": {
    "collapsed": true
   },
   "outputs": [],
   "source": [
    "#  Mass Fraction Transformation Matrix to Convert Species Mixtures \n",
    "# (Columns) to Primitive Species (Rows)\n",
    "\n",
    "#                          AIR       TOLUENE   PRODUCTS  WATER VA\n",
    "#    TOLUENE               0.000000  1.000000  0.000000  0.000000\n",
    "#    NITROGEN              0.763077  0.000000  0.701694  0.000000\n",
    "#    OXYGEN                0.231181  0.000000  0.000000  0.000000\n",
    "#    CARBON DIOXIDE        0.000592  0.000000  0.217521  0.000000\n",
    "#    CARBON MONOXIDE       0.000000  0.000000  0.000000  0.000000\n",
    "#    WATER VAPOR           0.005149  0.000000  0.066466  1.000000\n",
    "#    SOOT                  0.000000  0.000000  0.014319  0.000000"
   ]
  },
  {
   "cell_type": "code",
   "execution_count": 7,
   "metadata": {},
   "outputs": [],
   "source": [
    "transform_matrix = np.array([[0.000000, 1.000000, 0.000000, 0.000000],\n",
    "                             [0.763077, 0.000000, 0.701694, 0.000000],\n",
    "                             [0.231181, 0.000000, 0.000000, 0.000000], \n",
    "                             [0.000592, 0.000000, 0.217521, 0.000000], \n",
    "                             [0.000000, 0.000000, 0.000000, 0.000000], \n",
    "                             [0.005149, 0.000000, 0.066466, 1.000000],\n",
    "                             [0.000000, 0.000000, 0.014319, 0.000000]])"
   ]
  },
  {
   "cell_type": "code",
   "execution_count": 8,
   "metadata": {},
   "outputs": [
    {
     "data": {
      "text/plain": [
       "array([ 0.999999,  1.      ,  1.      ,  1.      ])"
      ]
     },
     "execution_count": 8,
     "metadata": {},
     "output_type": "execute_result"
    }
   ],
   "source": [
    "np.sum(transform_matrix, axis=0)"
   ]
  },
  {
   "cell_type": "code",
   "execution_count": null,
   "metadata": {
    "collapsed": true
   },
   "outputs": [],
   "source": []
  },
  {
   "cell_type": "code",
   "execution_count": null,
   "metadata": {
    "collapsed": true
   },
   "outputs": [],
   "source": []
  },
  {
   "cell_type": "code",
   "execution_count": null,
   "metadata": {
    "collapsed": true
   },
   "outputs": [],
   "source": []
  },
  {
   "cell_type": "code",
   "execution_count": null,
   "metadata": {
    "collapsed": true
   },
   "outputs": [],
   "source": []
  },
  {
   "cell_type": "code",
   "execution_count": null,
   "metadata": {
    "collapsed": true
   },
   "outputs": [],
   "source": []
  },
  {
   "cell_type": "code",
   "execution_count": null,
   "metadata": {
    "collapsed": true
   },
   "outputs": [],
   "source": []
  },
  {
   "cell_type": "code",
   "execution_count": null,
   "metadata": {
    "collapsed": true
   },
   "outputs": [],
   "source": []
  },
  {
   "cell_type": "code",
   "execution_count": null,
   "metadata": {
    "collapsed": true
   },
   "outputs": [],
   "source": []
  },
  {
   "cell_type": "code",
   "execution_count": null,
   "metadata": {
    "collapsed": true
   },
   "outputs": [],
   "source": []
  },
  {
   "cell_type": "code",
   "execution_count": null,
   "metadata": {
    "collapsed": true
   },
   "outputs": [],
   "source": []
  },
  {
   "cell_type": "code",
   "execution_count": null,
   "metadata": {
    "collapsed": true
   },
   "outputs": [],
   "source": []
  },
  {
   "cell_type": "code",
   "execution_count": null,
   "metadata": {
    "collapsed": true
   },
   "outputs": [],
   "source": []
  },
  {
   "cell_type": "code",
   "execution_count": null,
   "metadata": {
    "collapsed": true
   },
   "outputs": [],
   "source": []
  },
  {
   "cell_type": "code",
   "execution_count": null,
   "metadata": {
    "collapsed": true
   },
   "outputs": [],
   "source": []
  },
  {
   "cell_type": "code",
   "execution_count": null,
   "metadata": {
    "collapsed": true
   },
   "outputs": [],
   "source": []
  },
  {
   "cell_type": "code",
   "execution_count": null,
   "metadata": {
    "collapsed": true
   },
   "outputs": [],
   "source": []
  },
  {
   "cell_type": "code",
   "execution_count": null,
   "metadata": {
    "collapsed": true
   },
   "outputs": [],
   "source": []
  },
  {
   "cell_type": "code",
   "execution_count": null,
   "metadata": {
    "collapsed": true
   },
   "outputs": [],
   "source": []
  }
 ],
 "metadata": {
  "kernelspec": {
   "display_name": "Python 3",
   "language": "python",
   "name": "python3"
  },
  "language_info": {
   "codemirror_mode": {
    "name": "ipython",
    "version": 3
   },
   "file_extension": ".py",
   "mimetype": "text/x-python",
   "name": "python",
   "nbconvert_exporter": "python",
   "pygments_lexer": "ipython3",
   "version": "3.6.4"
  }
 },
 "nbformat": 4,
 "nbformat_minor": 2
}
