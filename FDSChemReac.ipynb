{
 "cells": [
  {
   "cell_type": "code",
   "execution_count": 1,
   "metadata": {},
   "outputs": [],
   "source": [
    "import numpy as np\n",
    "\n",
    "from Resources.FDS.PeriodicTableFDS653 import PeriodicTable as PT\n",
    "from Resources.ChemicalSpecies import ChemicalSpecies as CS"
   ]
  },
  {
   "cell_type": "code",
   "execution_count": 2,
   "metadata": {},
   "outputs": [],
   "source": [
    "# Define hydrogen atomic fraction in soot.\n",
    "X_H = 0.1\n",
    "\n",
    "\n",
    "# Define CO and soot yields.\n",
    "y_CO = 0\n",
    "y_Soot = 0.01"
   ]
  },
  {
   "cell_type": "code",
   "execution_count": 3,
   "metadata": {},
   "outputs": [
    {
     "name": "stdout",
     "output_type": "stream",
     "text": [
      "12.0107 ['HYDROGEN', 1.00794] ['OXYGEN', 15.9994] ['NITROGEN', 14.0067] ['CHLORINE', 35.453]\n",
      "['TOLUENE', [['C', 7], ['H', 8]]]\n"
     ]
    }
   ],
   "source": [
    "print(PT['C'][1], \n",
    "      PT['H'], \n",
    "      PT['O'], \n",
    "      PT['N'], \n",
    "      PT['Cl'])\n",
    "\n",
    "print(CS['C6H5CH3'])"
   ]
  },
  {
   "cell_type": "code",
   "execution_count": 4,
   "metadata": {},
   "outputs": [],
   "source": [
    "# define atomic weights\n",
    "W_C = PT['C'][1]\n",
    "W_H = PT['H'][1]\n",
    "W_O = PT['O'][1]\n",
    "W_N = PT['N'][1]\n",
    "W_Cl = PT['Cl'][1]"
   ]
  },
  {
   "cell_type": "code",
   "execution_count": 5,
   "metadata": {},
   "outputs": [
    {
     "name": "stdout",
     "output_type": "stream",
     "text": [
      "Element matrix\n",
      "[[7.  0.  0.  0.  1.  1.  0.9]\n",
      " [8.  0.  0.  2.  0.  0.  0.1]\n",
      " [0.  2.  0.  1.  2.  1.  0. ]\n",
      " [0.  0.  2.  0.  0.  0.  0. ]]\n"
     ]
    }
   ],
   "source": [
    "# define primitive species\n",
    "# 'methane','ethylene','chlorine','oxygen','nitrogen','water vapor',\n",
    "# 'carbon dioxide','carbon monoxide','hydrochloric acid','soot'\n",
    "i_toluene         = 0\n",
    "i_oxygen          = 1\n",
    "i_nitrogen        = 2\n",
    "i_water_vapor     = 3\n",
    "i_carbon_dioxide  = 4\n",
    "i_carbon_monoxide = 5\n",
    "i_soot            = 6\n",
    "\n",
    "n_species = 7\n",
    "\n",
    "\n",
    "# define the element matrix (number of atoms [rows] for each primitive species\n",
    "# [columns])\n",
    "#              0  1  2  3  4  5  6\n",
    "E = np.array([[7, 0, 0, 0, 1, 1, (1-X_H)],  # C\n",
    "              [8, 0, 0, 2, 0, 0, X_H    ],  # H\n",
    "              [0, 2, 0, 1, 2, 1, 0      ],  # O\n",
    "              [0, 0, 2, 0, 0, 0, 0      ]])  # N\n",
    "\n",
    "print('Element matrix')\n",
    "print(E)"
   ]
  },
  {
   "cell_type": "code",
   "execution_count": 6,
   "metadata": {},
   "outputs": [
    {
     "name": "stdout",
     "output_type": "stream",
     "text": [
      "Primitive species molecular weights\n",
      "[92.13842  31.9988   28.0134   18.01528  44.0095   28.0101   10.910424]\n"
     ]
    }
   ],
   "source": [
    "# primitive species molecular weights\n",
    "A = np.array([W_C, W_H, W_O, W_N])\n",
    "W = np.dot(E.T, A)\n",
    "\n",
    "print('Primitive species molecular weights')\n",
    "print(W)"
   ]
  },
  {
   "cell_type": "code",
   "execution_count": 7,
   "metadata": {},
   "outputs": [
    {
     "name": "stdout",
     "output_type": "stream",
     "text": [
      "Mass fractions of AIR\n",
      "[0.00000e+00 2.31181e-01 7.63077e-01 5.14900e-03 5.92000e-04 0.00000e+00\n",
      " 0.00000e+00] \n",
      "\n"
     ]
    }
   ],
   "source": [
    "# define the mass fractions of the background air (grab from FDS .out file)\n",
    "v_1 = np.zeros((n_species))\n",
    "v_1[i_oxygen]         = 0.231181\n",
    "v_1[i_nitrogen]       = 0.763077\n",
    "v_1[i_water_vapor]    = 0.005149\n",
    "v_1[i_carbon_dioxide] = 0.000592\n",
    "print('Mass fractions of AIR')\n",
    "print(v_1, '\\n')"
   ]
  },
  {
   "cell_type": "code",
   "execution_count": 8,
   "metadata": {},
   "outputs": [
    {
     "name": "stdout",
     "output_type": "stream",
     "text": [
      "Molecular weight of AIR\n",
      "28.76567445926183 \n",
      "\n",
      "Volume fractions of AIR\n",
      "[0.00000000e+00 2.07822712e-01 7.83568741e-01 8.22160176e-03\n",
      " 3.86945529e-04 0.00000000e+00 0.00000000e+00] \n",
      "\n"
     ]
    }
   ],
   "source": [
    "# convert to volume fractions\n",
    "#\n",
    "# use these in new FDS input file, else atom balance error may\n",
    "# occur!\n",
    "W_1 = 1./np.sum(v_1/W)\n",
    "print('Molecular weight of AIR')\n",
    "print(W_1, '\\n')\n",
    "\n",
    "v_1 = v_1*W_1/W\n",
    "v_1 = v_1/np.sum(v_1)\n",
    "print('Volume fractions of AIR')\n",
    "print(v_1, '\\n')  "
   ]
  },
  {
   "cell_type": "code",
   "execution_count": 9,
   "metadata": {},
   "outputs": [
    {
     "name": "stdout",
     "output_type": "stream",
     "text": [
      "Volume fractions of FUEL\n",
      "[1. 0. 0. 0. 0. 0. 0.] \n",
      "\n",
      "Molecular weight of FUEL\n",
      "92.13842 \n",
      "\n"
     ]
    }
   ],
   "source": [
    "# define volume fractions of fuel mixture (assumed known)\n",
    "v_2 = np.zeros((n_species))\n",
    "v_2[i_toluene]        = 100.0\n",
    "v_2 = v_2/np.sum(v_2)\n",
    "print('Volume fractions of FUEL')\n",
    "print(v_2, '\\n')\n",
    "\n",
    "W_2 = np.sum(v_2*W)\n",
    "print('Molecular weight of FUEL')\n",
    "print(W_2, '\\n')"
   ]
  },
  {
   "cell_type": "code",
   "execution_count": 22,
   "metadata": {},
   "outputs": [
    {
     "name": "stdout",
     "output_type": "stream",
     "text": [
      "v_2 v_3\n",
      "[1. 0. 0. 0. 0. 0. 0.]\n",
      "[0.        0.        0.        0.        0.        0.        0.0844499]\n",
      "\n",
      "b\n",
      "[6.92399509 7.99155501 0.         0.        ] \n",
      "\n"
     ]
    }
   ],
   "source": [
    "# the reaction coefficients for the product primitive species temporarily\n",
    "# stored in v_3\n",
    "v_3 = np.zeros((n_species))\n",
    "\n",
    "\n",
    "# compute what we know so far \n",
    "# (meaning the amount of elements known \n",
    "# to be consumed by the yields)\n",
    "v_3[i_carbon_monoxide] = W_2/W[i_carbon_monoxide]*y_CO\n",
    "v_3[i_soot]            = W_2/W[i_soot]*y_Soot\n",
    "\n",
    "print('v_2', 'v_3')\n",
    "print(v_2)\n",
    "print(v_3)\n",
    "print()\n",
    "\n",
    "# linear system right hand side\n",
    "b = np.dot(E, v_2-v_3)\n",
    "print('b')\n",
    "print(b, '\\n')"
   ]
  },
  {
   "cell_type": "code",
   "execution_count": 11,
   "metadata": {},
   "outputs": [
    {
     "name": "stdout",
     "output_type": "stream",
     "text": [
      "L\n",
      "[[3.86945529e-04 1.00000000e+00 0.00000000e+00 0.00000000e+00]\n",
      " [1.64432035e-02 0.00000000e+00 2.00000000e+00 0.00000000e+00]\n",
      " [4.24640916e-01 2.00000000e+00 1.00000000e+00 0.00000000e+00]\n",
      " [1.56713748e+00 0.00000000e+00 0.00000000e+00 2.00000000e+00]] \n",
      "\n"
     ]
    }
   ],
   "source": [
    "# matrix\n",
    "L = np.array([np.dot(E, v_1),\n",
    "              E[:, i_carbon_dioxide],\n",
    "              E[:, i_water_vapor],\n",
    "              E[:, i_nitrogen]]).T\n",
    "print('L')\n",
    "print(L, '\\n')"
   ]
  },
  {
   "cell_type": "code",
   "execution_count": 12,
   "metadata": {},
   "outputs": [
    {
     "name": "stdout",
     "output_type": "stream",
     "text": [
      "x\n",
      "[-42.93026383   6.94060676   4.34873304  33.63881278] \n",
      "\n"
     ]
    }
   ],
   "source": [
    "# % solve the system\n",
    "x = np.linalg.solve(L, b)\n",
    "print('x')\n",
    "print(x, '\\n')"
   ]
  },
  {
   "cell_type": "code",
   "execution_count": 13,
   "metadata": {},
   "outputs": [
    {
     "name": "stdout",
     "output_type": "stream",
     "text": [
      "Products\n",
      "[0.         0.         0.74731988 0.09661146 0.15419252 0.\n",
      " 0.00187614] \n",
      "\n",
      "Mass balance\n",
      "2.2737367544323206e-13 \n",
      "\n"
     ]
    }
   ],
   "source": [
    "nu_1                  = x[0]  # background stoichiometric coefficient\n",
    "v_3[i_carbon_dioxide] = x[1]\n",
    "v_3[i_water_vapor]    = x[2]\n",
    "v_3[i_nitrogen]       = x[3]\n",
    "\n",
    "# print('Products')\n",
    "# print(v_3, '\\n')\n",
    "\n",
    "nu_2 = -1        # fuel stoichiometric coefficient\n",
    "nu_3 = sum(v_3)  # prod stoichiometric coefficient\n",
    "\n",
    "v_3 = v_3/nu_3  # normalized product volume fractions\n",
    "\n",
    "print('Products')\n",
    "print(v_3, '\\n')\n",
    "\n",
    "# check mass balance (should be 0)\n",
    "print('Mass balance')\n",
    "print(nu_1*np.sum(v_1*W) + nu_2*np.sum(v_2*W) + nu_3*np.sum(v_3*W), '\\n')"
   ]
  },
  {
   "cell_type": "code",
   "execution_count": 14,
   "metadata": {},
   "outputs": [
    {
     "name": "stdout",
     "output_type": "stream",
     "text": [
      "Lumped species reaction coefficients\n",
      "nu_1 = -42.930263833181655\n",
      "nu_2 = -1\n",
      "nu_3 = 45.012602484273486 \n",
      "\n"
     ]
    }
   ],
   "source": [
    "# print lumped reaction coefficients\n",
    "print('Lumped species reaction coefficients')\n",
    "print('nu_1 = ' + str(nu_1))\n",
    "print('nu_2 = ' + str(nu_2))\n",
    "print('nu_3 = ' + str(nu_3), '\\n')"
   ]
  },
  {
   "cell_type": "code",
   "execution_count": 15,
   "metadata": {},
   "outputs": [],
   "source": [
    "# Calculation of stoichiometry data for FDS input files. \n",
    "# Fuel is expected to be a list of the following structure: [C,H,O,N,CL]. \n",
    "# Elements in this list are coefficients (float) of the chemical formula.\n",
    "# Fuel label is expected to be a string, will be used for the REAC_ID.\n",
    "# Various yields can be specified, as well as the percentage of hydrogen \n",
    "# in the soot.\n",
    "def stoichiometry(fuel,\n",
    "                  fuel_label,\n",
    "                  oxydizer_label,\n",
    "                  product_label,\n",
    "                  co2_yield=0.0,\n",
    "                  co_yield=0.0,\n",
    "                  soot_yield=0.0,\n",
    "                  soot_h_fraction=0.0,\n",
    "                  simple_air=False):\n",
    "    \n",
    "    # Calculate the molecular weight of the fuel molecule, in g/mol.\n",
    "    w_fuel = fuel[0] * cMolWeight + \\\n",
    "             fuel[1] * hMolWeight + \\\n",
    "             fuel[2] * oMolWeight + \\\n",
    "             fuel[3] * nMolWeight + \\\n",
    "             fuel[4] * clMolWeight\n",
    "    \n",
    "    # Calculate the molecular weight of the soot, in g/mol.\n",
    "    w_s = soot_h_fraction * hMolWeight + (1 - soot_h_fraction) * cMolWeight\n",
    "    print('Soot weight:')\n",
    "    print(w_s)\n",
    "    \n",
    "    # Calculate the stoichiometric coefficient of nitrogen; gas (products).\n",
    "    # Nu means the greek letter.\n",
    "    nu_n2 = fuel[3]/2\n",
    "    print('Nu N2:')\n",
    "    print(nu_n2)\n",
    "    \n",
    "    # Calculate the stoichiometric coefficient of soot; solid (products).\n",
    "    # nu_s = w_fuel / w_s * soot_yield\n",
    "    nu_s = stoichiometric_coefficient(w_fuel, w_s, soot_yield)\n",
    "    print('Nu soot:')\n",
    "    print(nu_s)\n",
    "    \n",
    "    # Calculate the stoichiometric coefficient of \n",
    "    # carbon monoxide; gas (products).\n",
    "    # nu_co = w_fuel / co_mol_weight * co_yield\n",
    "    nu_co = stoichiometric_coefficient(w_fuel, co_mol_weight, co_yield)\n",
    "    print('Nu CO:')\n",
    "    print(nu_co)\n",
    "    \n",
    "    # Calculate the stoichiometric coefficient of \n",
    "    # hydrogen chloride; gas (products).\n",
    "    nu_hcl = fuel[4]\n",
    "    # nu_hcl = stoichiometric_coefficient(w_fuel, clMolWeight, hclYield)\n",
    "    print('Nu HCl:')\n",
    "    print(nu_hcl)\n",
    "    \n",
    "    # Calculate the stoichiometric coefficient of water; gas (products).\n",
    "    nu_h2o = fuel[1]/2 - soot_h_fraction / 2 * nu_s - fuel[4]\n",
    "    print('Nu H2O:')\n",
    "    print(nu_h2o)\n",
    "    \n",
    "    # Calculate the stoichiometric coefficient of \n",
    "    # carbon dioxide; gas (products).\n",
    "    nu_co2 = fuel[0] - nu_co - (1 - soot_h_fraction) * nu_s\n",
    "    print('Nu CO2:')\n",
    "    print(nu_co2)\n",
    "    \n",
    "    # Calculate the stoichiometric coefficient of \n",
    "    # oxygen; gas (reactants).\n",
    "    nu_o2 = nu_co2 + nu_co/2 + nu_h2o/2 - fuel[2]/2\n",
    "    print('Nu O2:')\n",
    "    print(nu_o2)\n",
    "\n",
    "    # Volume fraction\n",
    "    # Simple air follows the simplification that air consists out of 21 % \n",
    "    # of oxygen and 79 % of nitrogen.\n",
    "    if simple_air is False:\n",
    "        \n",
    "        # The air_demand is based on the amount of oxygen needed for the\n",
    "        # combustion. All the other components are scaled according to this \n",
    "        # value.\n",
    "        air_demand = nu_o2 / airVolFrac[1]\n",
    "        print('Air demand:')\n",
    "        print(air_demand)\n",
    "        print('nu_o2:')\n",
    "        print(nu_o2)\n",
    "        print('airVolFrac[1]:')\n",
    "        print(airVolFrac[1])\n",
    "\n",
    "        prod_n2 = air_demand * airVolFrac[0] + nu_n2\n",
    "        print('Product N2:')\n",
    "        print(prod_n2)\n",
    "        \n",
    "        prod_h2o = air_demand * airVolFrac[2] + nu_h2o\n",
    "        print('product H2O:')\n",
    "        print(prod_h2o)\n",
    "        \n",
    "        prod_co2 = air_demand * airVolFrac[3] + nu_co2\n",
    "        print('Product CO2:')\n",
    "        print(prod_co2)\n",
    "\n",
    "    elif simple_air is True:\n",
    "        air_demand = nu_o2 / airVolFracSimple[1]\n",
    "        print('Air demand:')\n",
    "        print(air_demand)\n",
    "\n",
    "        prod_n2 = air_demand * airVolFracSimple[0] + nu_n2\n",
    "        print('Product N2:')\n",
    "        print(prod_n2)\n",
    "        \n",
    "        prod_h2o = nu_h2o\n",
    "        print('product H2O:')\n",
    "        print(prod_h2o)\n",
    "        \n",
    "        prod_co2 = nu_co2\n",
    "        print('Product CO2:')\n",
    "        print(prod_co2)\n",
    "        pass\n",
    "    else:\n",
    "        print('Parameter \"simple_air\" needs to be True or False (bool)!')\n",
    "        \n",
    "    prod_hcl = nu_hcl\n",
    "    print('Product HCl:')\n",
    "    print(prod_hcl)\n",
    "    \n",
    "    prod_soot = nu_s\n",
    "    print('Product soot:')\n",
    "    print(prod_soot)\n",
    "    \n",
    "    prod_co = nu_co\n",
    "    print('Product CO:')\n",
    "    print(prod_co)\n",
    "    \n",
    "    # Calculate the total molar amount of all the products to normalise them.\n",
    "    total_product_mol = (prod_n2 + prod_co2 + prod_h2o +\n",
    "                         prod_hcl + prod_co + prod_soot)\n",
    "    \n",
    "    products = ['N2: '+str(prod_n2),\n",
    "                'CO2: '+str(prod_co2),\n",
    "                'H2O: '+str(prod_h2o),\n",
    "                'HCl: '+str(prod_hcl),\n",
    "                'CO: '+str(prod_co),\n",
    "                'Soot: '+str(prod_soot)]\n",
    "    \n",
    "    # Normalise products, used for lumped species.\n",
    "    products_normalised = [prod_n2/total_product_mol,\n",
    "                           prod_co2/total_product_mol,\n",
    "                           prod_h2o/total_product_mol,\n",
    "                           prod_hcl/total_product_mol,\n",
    "                           prod_co/total_product_mol,\n",
    "                           prod_soot/total_product_mol]\n",
    "    print(products_normalised)\n",
    "\n",
    "    # return air_demand,products,total_product_mol,products_normalised\n",
    "    \n",
    "    product_species = ['NITROGEN',\n",
    "                       'CARBON DIOXIDE',\n",
    "                       'WATER VAPOR',\n",
    "                       'HYDROGEN CHLORIDE',\n",
    "                       'CARBON MONOXIDE',\n",
    "                       'SOOT']\n",
    "    \n",
    "    species_invoke2, new_oxydizer = species_lump(oxydizer_label,\n",
    "                                                 airComponents,\n",
    "                                                 airVolFrac,\n",
    "                                                 speciesInvoke)\n",
    "    print(\"species_invoke2\")\n",
    "    print(species_invoke2)\n",
    "\n",
    "    species_invoke3, new_product = species_lump(product_label,\n",
    "                                                product_species,\n",
    "                                                products_normalised,\n",
    "                                                species_invoke2)\n",
    "    print(\"species_invoke2\")\n",
    "    print(species_invoke2)\n",
    "    \n",
    "    print(\"species_invoke3\")\n",
    "    print(species_invoke3)\n",
    "\n",
    "    reaction_para = [fuel_label,\n",
    "                     oxydizer_label,\n",
    "                     product_label,\n",
    "                     1,\n",
    "                     air_demand,\n",
    "                     total_product_mol]\n",
    "    new_reac = creat_reac_input(reaction_para[0], reaction_para)\n",
    "    \n",
    "    return species_invoke3, new_oxydizer, new_product, new_reac"
   ]
  },
  {
   "cell_type": "code",
   "execution_count": 16,
   "metadata": {},
   "outputs": [],
   "source": [
    "#    PRODUCTS\n",
    "#    Molecular Weight (g/mol)            28.57721\n",
    "#    Ambient Density (kg/m^3)            1.188\n",
    "#    Initial Mass Fraction               0.000\n",
    "#    Enthalpy of Formation (J/kg)     -2.84E+06\n",
    "\n",
    "#    Sub Species                    Mass Fraction     Mole Fraction\n",
    "#    NITROGEN                       7.016941E-01      7.158167E-01\n",
    "#    CARBON DIOXIDE                 2.175212E-01      1.412456E-01\n",
    "#    CARBON MONOXIDE                0.000000E+00      0.000000E+00\n",
    "#    WATER VAPOR                    6.646607E-02      1.054335E-01\n",
    "#    SOOT                           1.431862E-02      3.750416E-02"
   ]
  },
  {
   "cell_type": "code",
   "execution_count": 17,
   "metadata": {},
   "outputs": [],
   "source": [
    "#    AIR\n",
    "#    Molecular Weight (g/mol)            28.76564\n",
    "#    Ambient Density (kg/m^3)            1.196\n",
    "#    Initial Mass Fraction               1.000\n",
    "#    Enthalpy of Formation (J/kg)     -7.44E+04\n",
    "\n",
    "#    Sub Species                    Mass Fraction     Mole Fraction\n",
    "#    NITROGEN                       7.630774E-01      7.835682E-01\n",
    "#    OXYGEN                         2.311814E-01      2.078229E-01\n",
    "#    CARBON DIOXIDE                 5.919362E-04      3.869034E-04\n",
    "#    WATER VAPOR                    5.149269E-03      8.222023E-03"
   ]
  },
  {
   "cell_type": "code",
   "execution_count": 18,
   "metadata": {},
   "outputs": [],
   "source": [
    "#    Fuel                              Heat of Combustion (kJ/kg)\n",
    "#    TOLUENE                                           34963.6292\n",
    "\n",
    "#    Stoichiometry\n",
    "\n",
    "#    Primitive Species\n",
    "#    Species ID                                 Stoich. Coeff.\n",
    "#    TOLUENE                                            -1.000000\n",
    "#    NITROGEN                                           -0.000000\n",
    "#    OXYGEN                                             -7.609532\n",
    "#    CARBON DIOXIDE                                      5.647113\n",
    "#    WATER VAPOR                                         3.924840\n",
    "#    SOOT                                                1.503208\n",
    "\n",
    "#    Tracked (Lumped) Species\n",
    "#    Species ID                                 Stoich. Coeff.\n",
    "#    AIR                                            -36.615475\n",
    "#    TOLUENE                                         -1.000000\n",
    "#    PRODUCTS                                        40.081103"
   ]
  },
  {
   "cell_type": "code",
   "execution_count": 19,
   "metadata": {},
   "outputs": [],
   "source": [
    "#  Mass Fraction Transformation Matrix to Convert Species Mixtures \n",
    "# (Columns) to Primitive Species (Rows)\n",
    "\n",
    "#                          AIR       TOLUENE   PRODUCTS  WATER VA\n",
    "#    TOLUENE               0.000000  1.000000  0.000000  0.000000\n",
    "#    NITROGEN              0.763077  0.000000  0.701694  0.000000\n",
    "#    OXYGEN                0.231181  0.000000  0.000000  0.000000\n",
    "#    CARBON DIOXIDE        0.000592  0.000000  0.217521  0.000000\n",
    "#    CARBON MONOXIDE       0.000000  0.000000  0.000000  0.000000\n",
    "#    WATER VAPOR           0.005149  0.000000  0.066466  1.000000\n",
    "#    SOOT                  0.000000  0.000000  0.014319  0.000000"
   ]
  },
  {
   "cell_type": "code",
   "execution_count": 20,
   "metadata": {},
   "outputs": [],
   "source": [
    "transform_matrix = np.array([[0.000000, 1.000000, 0.000000, 0.000000],\n",
    "                             [0.763077, 0.000000, 0.701694, 0.000000],\n",
    "                             [0.231181, 0.000000, 0.000000, 0.000000], \n",
    "                             [0.000592, 0.000000, 0.217521, 0.000000], \n",
    "                             [0.000000, 0.000000, 0.000000, 0.000000], \n",
    "                             [0.005149, 0.000000, 0.066466, 1.000000],\n",
    "                             [0.000000, 0.000000, 0.014319, 0.000000]])"
   ]
  },
  {
   "cell_type": "code",
   "execution_count": 21,
   "metadata": {},
   "outputs": [
    {
     "data": {
      "text/plain": [
       "array([0.999999, 1.      , 1.      , 1.      ])"
      ]
     },
     "execution_count": 21,
     "metadata": {},
     "output_type": "execute_result"
    }
   ],
   "source": [
    "np.sum(transform_matrix, axis=0)"
   ]
  },
  {
   "cell_type": "code",
   "execution_count": null,
   "metadata": {},
   "outputs": [],
   "source": []
  },
  {
   "cell_type": "code",
   "execution_count": null,
   "metadata": {},
   "outputs": [],
   "source": []
  },
  {
   "cell_type": "code",
   "execution_count": null,
   "metadata": {},
   "outputs": [],
   "source": []
  },
  {
   "cell_type": "code",
   "execution_count": null,
   "metadata": {},
   "outputs": [],
   "source": []
  },
  {
   "cell_type": "code",
   "execution_count": null,
   "metadata": {},
   "outputs": [],
   "source": []
  },
  {
   "cell_type": "code",
   "execution_count": null,
   "metadata": {},
   "outputs": [],
   "source": []
  },
  {
   "cell_type": "code",
   "execution_count": null,
   "metadata": {},
   "outputs": [],
   "source": []
  },
  {
   "cell_type": "code",
   "execution_count": null,
   "metadata": {},
   "outputs": [],
   "source": []
  },
  {
   "cell_type": "code",
   "execution_count": null,
   "metadata": {},
   "outputs": [],
   "source": []
  },
  {
   "cell_type": "code",
   "execution_count": null,
   "metadata": {},
   "outputs": [],
   "source": []
  },
  {
   "cell_type": "code",
   "execution_count": null,
   "metadata": {},
   "outputs": [],
   "source": []
  },
  {
   "cell_type": "code",
   "execution_count": null,
   "metadata": {},
   "outputs": [],
   "source": []
  },
  {
   "cell_type": "code",
   "execution_count": null,
   "metadata": {},
   "outputs": [],
   "source": []
  },
  {
   "cell_type": "code",
   "execution_count": null,
   "metadata": {},
   "outputs": [],
   "source": []
  },
  {
   "cell_type": "code",
   "execution_count": null,
   "metadata": {},
   "outputs": [],
   "source": []
  },
  {
   "cell_type": "code",
   "execution_count": null,
   "metadata": {},
   "outputs": [],
   "source": []
  },
  {
   "cell_type": "code",
   "execution_count": null,
   "metadata": {},
   "outputs": [],
   "source": []
  },
  {
   "cell_type": "code",
   "execution_count": null,
   "metadata": {},
   "outputs": [],
   "source": []
  }
 ],
 "metadata": {
  "kernelspec": {
   "display_name": "Python 3",
   "language": "python",
   "name": "python3"
  },
  "language_info": {
   "codemirror_mode": {
    "name": "ipython",
    "version": 3
   },
   "file_extension": ".py",
   "mimetype": "text/x-python",
   "name": "python",
   "nbconvert_exporter": "python",
   "pygments_lexer": "ipython3",
   "version": "3.6.4"
  }
 },
 "nbformat": 4,
 "nbformat_minor": 2
}
