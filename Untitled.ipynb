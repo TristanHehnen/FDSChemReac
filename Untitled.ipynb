{
 "cells": [
  {
   "cell_type": "code",
   "execution_count": 5,
   "metadata": {},
   "outputs": [],
   "source": [
    "import os\n",
    "import subprocess\n",
    "\n",
    "import pandas as pd\n",
    "import numpy as np\n",
    "# import seaborn as sns\n",
    "import matplotlib.pyplot as plt\n",
    "\n",
    "from Resources.FDS.PeriodicTableFDS653 import PeriodicTable as PT\n",
    "from Resources.ChemicalSpecies import ChemicalSpecies as CS\n",
    "\n",
    "# sns.set(style=\"darkgrid\")\n",
    "%matplotlib inline"
   ]
  },
  {
   "cell_type": "code",
   "execution_count": 6,
   "metadata": {},
   "outputs": [
    {
     "name": "stdout",
     "output_type": "stream",
     "text": [
      "12.0107 1.00794 15.9994 14.0067 35.453\n"
     ]
    }
   ],
   "source": [
    "# define atomic weights\n",
    "W_C = PT['C'][1]\n",
    "W_H = PT['H'][1]\n",
    "W_O = PT['O'][1]\n",
    "W_N = PT['N'][1]\n",
    "W_Cl = PT['Cl'][1]\n",
    "print(W_C, W_H, W_O, W_N, W_Cl)\n",
    "\n",
    "# Define hydrogen atomic fraction in soot.\n",
    "X_H = 0.1\n",
    "\n",
    "\n",
    "# Define yields.\n",
    "# All produced species treaded as yield.\n",
    "# Assumed Cl is completely consumed by HCl.\n",
    "# Remaining C, H, N, O produce CO2, H2O and N2.\n",
    "y_CO = 0.22\n",
    "y_HCl = 1.0\n",
    "y_HCN = 0.016\n",
    "y_C7H5NO = 0.0003\n",
    "y_C7H5N = 0.0018\n",
    "y_Soot = 0.09\n",
    "y_NO = 0.01\n",
    "\n",
    "\n",
    "def reaction_coefficient(fuel_mol, component_mol\n",
    "                         , component_yield):\n",
    "    rc = fuel_mol/component_mol * component_yield\n",
    "    return rc"
   ]
  },
  {
   "cell_type": "code",
   "execution_count": 7,
   "metadata": {},
   "outputs": [
    {
     "name": "stdout",
     "output_type": "stream",
     "text": [
      "Fuel mol weight: 20.42132324 g/mol\n"
     ]
    }
   ],
   "source": [
    "fuel_molecule = [['C', 1.0],\n",
    "                 ['H', 0.081],\n",
    "                 ['O', 0.309],\n",
    "                 ['N', 0.105],\n",
    "                 ['Cl', 0.054]]\n",
    "\n",
    "mol_weight_fuel = 0\n",
    "for element in fuel_molecule:\n",
    "    mol_weight_fuel += PT[element[0]][1] * element[1]\n",
    "\n",
    "print('Fuel mol weight: {} g/mol'.format(mol_weight_fuel))"
   ]
  },
  {
   "cell_type": "code",
   "execution_count": 11,
   "metadata": {},
   "outputs": [
    {
     "name": "stdout",
     "output_type": "stream",
     "text": [
      "Element matrix:\n",
      "[[1.    0.    1.    0.    1.    7.    7.    0.    2.    0.    0.    0.\n",
      "  1.    0.9  ]\n",
      " [0.081 0.    0.    1.    1.    5.    5.    0.    0.    2.    0.    0.\n",
      "  0.    0.1  ]\n",
      " [0.309 2.    1.    0.    0.    1.    0.    1.    0.    1.    0.    0.\n",
      "  2.    0.   ]\n",
      " [0.105 0.    0.    0.    1.    1.    1.    1.    0.    0.    0.    2.\n",
      "  0.    0.   ]\n",
      " [0.054 0.    0.    1.    0.    0.    0.    0.    0.    0.    2.    0.\n",
      "  0.    0.   ]]\n"
     ]
    }
   ],
   "source": [
    "# define primitive species\n",
    "#\n",
    "# CO2, CO, HCl, HCN, C7H5NO, C7H5N,  \n",
    "# NO, CC, H2O, Cl2, N2, Soot\n",
    "\n",
    "i_PU     = 0\n",
    "i_O2     = 1\n",
    "i_CO     = 2\n",
    "i_HCl    = 3\n",
    "i_HCN    = 4\n",
    "i_C7H5NO = 5\n",
    "i_C7H5N  = 6\n",
    "i_NO     = 7\n",
    "i_CC     = 8\n",
    "i_H2O    = 9\n",
    "i_Cl2    = 10\n",
    "i_N2     = 11\n",
    "i_CO2    = 12\n",
    "i_Soot   = 13\n",
    "\n",
    "n_species = 14\n",
    "\n",
    "\n",
    "# define the element matrix (number of atoms [rows] for each primitive species\n",
    "# [columns])\n",
    "#                  0  1  2  3  4  5  6  7  8  9 10  11  12  13\n",
    "E = np.array([[1.000, 0, 1, 0, 1, 7, 7, 0, 2, 0, 0,  0,  1, (1-X_H)],  # C\n",
    "              [0.081, 0, 0, 1, 1, 5, 5, 0, 0, 2, 0,  0,  0,  X_H   ],  # H\n",
    "              [0.309, 2, 1, 0, 0, 1, 0, 1, 0, 1, 0,  0,  2,  0     ],  # O\n",
    "              [0.105, 0, 0, 0, 1, 1, 1, 1, 0, 0, 0,  2,  0,  0     ],  # N\n",
    "              [0.054, 0, 0, 1, 0, 0, 0, 0, 0, 0, 2,  0,  0,  0     ]])  # CL\n",
    "\n",
    "print('Element matrix:')\n",
    "print(E)"
   ]
  },
  {
   "cell_type": "code",
   "execution_count": 12,
   "metadata": {},
   "outputs": [
    {
     "name": "stdout",
     "output_type": "stream",
     "text": [
      "Volume fractions of FUEL\n",
      "[1. 0. 0. 0. 0. 0. 0. 0. 0. 0. 0. 0. 0. 0.] \n",
      "\n"
     ]
    }
   ],
   "source": [
    "# define volume fractions of fuel mixture (assumed known)\n",
    "vol_fuel = np.zeros((n_species))\n",
    "vol_fuel[i_PU]        = 100.0\n",
    "vol_fuel = vol_fuel/np.sum(vol_fuel)\n",
    "print('Volume fractions of FUEL')\n",
    "print(vol_fuel, '\\n')"
   ]
  },
  {
   "cell_type": "code",
   "execution_count": 13,
   "metadata": {},
   "outputs": [
    {
     "name": "stdout",
     "output_type": "stream",
     "text": [
      "Primitive species molecular weights:\n",
      "[ 20.42132324  31.9988      28.0101      36.46094     27.02534\n",
      " 119.1207     103.1213      30.0061      24.0214      18.01528\n",
      "  70.906       28.0134      44.0095      10.910424  ]\n"
     ]
    }
   ],
   "source": [
    "#primitive species molecular weights\n",
    "A = np.array([W_C, W_H, W_O, W_N, W_Cl])\n",
    "W = np.dot(E.T, A)\n",
    "\n",
    "print('Primitive species molecular weights:')\n",
    "print(W)"
   ]
  },
  {
   "cell_type": "code",
   "execution_count": 14,
   "metadata": {},
   "outputs": [],
   "source": [
    "# Define volume fraction of air.\n",
    "vol_frac_air = np.zeros(n_species)\n",
    "\n",
    "vol_frac_air[i_O2] = 1 / 4.76\n",
    "vol_frac_air[i_N2] = 3.76 / 4.76\n"
   ]
  },
  {
   "cell_type": "code",
   "execution_count": 15,
   "metadata": {},
   "outputs": [
    {
     "name": "stdout",
     "output_type": "stream",
     "text": [
      "Molecular weight of AIR\n",
      "28.766082810916778 \n",
      "\n"
     ]
    }
   ],
   "source": [
    "W_1 = 1./np.sum(vol_frac_air/W)\n",
    "print('Molecular weight of AIR')\n",
    "print(W_1, '\\n')"
   ]
  },
  {
   "cell_type": "code",
   "execution_count": 21,
   "metadata": {},
   "outputs": [
    {
     "data": {
      "text/plain": [
       "array([0.00000000e+00, 0.00000000e+00, 1.60395397e-01, 5.60087678e-01,\n",
       "       1.20901780e-02, 5.14301626e-05, 3.56457704e-04, 6.80572392e-03,\n",
       "       0.00000000e+00, 0.00000000e+00, 0.00000000e+00, 0.00000000e+00,\n",
       "       0.00000000e+00, 1.68455331e-01])"
      ]
     },
     "execution_count": 21,
     "metadata": {},
     "output_type": "execute_result"
    }
   ],
   "source": [
    "reac_coeff = np.zeros(n_species)\n",
    "\n",
    "\n",
    "\n",
    "# y_HCN = 0.016\n",
    "# y_C7H5NO = 0.0003\n",
    "# y_C7H5N = 0.0018\n",
    "# y_NO = 0.01\n",
    "\n",
    "# compute what we know so far\n",
    "# Basically consumption known from yields.\n",
    "reac_coeff[i_CO]   = reaction_coefficient(mol_weight_fuel, \n",
    "                                          W[i_CO], y_CO)\n",
    "reac_coeff[i_Soot] = reaction_coefficient(mol_weight_fuel, \n",
    "                                          W[i_Soot], y_Soot)\n",
    "reac_coeff[i_HCl] = reaction_coefficient(mol_weight_fuel,\n",
    "                                        W[i_HCl], y_HCl)\n",
    "reac_coeff[i_HCN] = reaction_coefficient(mol_weight_fuel,\n",
    "                                        W[i_HCN], y_HCN)\n",
    "reac_coeff[i_C7H5NO] = reaction_coefficient(mol_weight_fuel,\n",
    "                                        W[i_C7H5NO], y_C7H5NO)\n",
    "reac_coeff[i_C7H5N] = reaction_coefficient(mol_weight_fuel,\n",
    "                                        W[i_C7H5N], y_C7H5N)\n",
    "reac_coeff[i_NO] = reaction_coefficient(mol_weight_fuel,\n",
    "                                        W[i_NO], y_NO)\n",
    "\n",
    "reac_coeff"
   ]
  },
  {
   "cell_type": "code",
   "execution_count": 17,
   "metadata": {},
   "outputs": [
    {
     "name": "stdout",
     "output_type": "stream",
     "text": [
      "b\n",
      "[ 0.67304941 -0.51006283  0.14174745  0.08569621 -0.50608768] \n",
      "\n"
     ]
    }
   ],
   "source": [
    "# linear system right hand side\n",
    "b = np.dot(E, vol_fuel - reac_coeff)\n",
    "print('b')\n",
    "print(b, '\\n')"
   ]
  },
  {
   "cell_type": "code",
   "execution_count": 19,
   "metadata": {},
   "outputs": [
    {
     "name": "stdout",
     "output_type": "stream",
     "text": [
      "L\n",
      "[[0.         1.         0.         0.        ]\n",
      " [0.         0.         2.         0.        ]\n",
      " [0.42016807 2.         1.         0.        ]\n",
      " [1.57983193 0.         0.         2.        ]\n",
      " [0.         0.         0.         0.        ]] \n",
      "\n"
     ]
    }
   ],
   "source": [
    "# matrix\n",
    "L = np.array([np.dot(E, vol_frac_air),\n",
    "              E[:, i_CO2],\n",
    "              E[:, i_H2O],\n",
    "              E[:, i_N2]]).T\n",
    "print('L')\n",
    "print(L, '\\n')"
   ]
  },
  {
   "cell_type": "code",
   "execution_count": 20,
   "metadata": {},
   "outputs": [
    {
     "ename": "LinAlgError",
     "evalue": "Last 2 dimensions of the array must be square",
     "output_type": "error",
     "traceback": [
      "\u001b[1;31m---------------------------------------------------------------------------\u001b[0m",
      "\u001b[1;31mLinAlgError\u001b[0m                               Traceback (most recent call last)",
      "\u001b[1;32m<ipython-input-20-fd21b397fa3f>\u001b[0m in \u001b[0;36m<module>\u001b[1;34m()\u001b[0m\n\u001b[0;32m      1\u001b[0m \u001b[1;31m# % solve the system\u001b[0m\u001b[1;33m\u001b[0m\u001b[1;33m\u001b[0m\u001b[0m\n\u001b[1;32m----> 2\u001b[1;33m \u001b[0mx\u001b[0m \u001b[1;33m=\u001b[0m \u001b[0mnp\u001b[0m\u001b[1;33m.\u001b[0m\u001b[0mlinalg\u001b[0m\u001b[1;33m.\u001b[0m\u001b[0msolve\u001b[0m\u001b[1;33m(\u001b[0m\u001b[0mL\u001b[0m\u001b[1;33m,\u001b[0m \u001b[0mb\u001b[0m\u001b[1;33m)\u001b[0m\u001b[1;33m\u001b[0m\u001b[0m\n\u001b[0m\u001b[0;32m      3\u001b[0m \u001b[0mprint\u001b[0m\u001b[1;33m(\u001b[0m\u001b[1;34m'x'\u001b[0m\u001b[1;33m)\u001b[0m\u001b[1;33m\u001b[0m\u001b[0m\n\u001b[0;32m      4\u001b[0m \u001b[0mprint\u001b[0m\u001b[1;33m(\u001b[0m\u001b[0mx\u001b[0m\u001b[1;33m,\u001b[0m \u001b[1;34m'\\n'\u001b[0m\u001b[1;33m)\u001b[0m\u001b[1;33m\u001b[0m\u001b[0m\n",
      "\u001b[1;32mC:\\Anaconda3\\lib\\site-packages\\numpy\\linalg\\linalg.py\u001b[0m in \u001b[0;36msolve\u001b[1;34m(a, b)\u001b[0m\n\u001b[0;32m    375\u001b[0m     \u001b[0ma\u001b[0m\u001b[1;33m,\u001b[0m \u001b[0m_\u001b[0m \u001b[1;33m=\u001b[0m \u001b[0m_makearray\u001b[0m\u001b[1;33m(\u001b[0m\u001b[0ma\u001b[0m\u001b[1;33m)\u001b[0m\u001b[1;33m\u001b[0m\u001b[0m\n\u001b[0;32m    376\u001b[0m     \u001b[0m_assertRankAtLeast2\u001b[0m\u001b[1;33m(\u001b[0m\u001b[0ma\u001b[0m\u001b[1;33m)\u001b[0m\u001b[1;33m\u001b[0m\u001b[0m\n\u001b[1;32m--> 377\u001b[1;33m     \u001b[0m_assertNdSquareness\u001b[0m\u001b[1;33m(\u001b[0m\u001b[0ma\u001b[0m\u001b[1;33m)\u001b[0m\u001b[1;33m\u001b[0m\u001b[0m\n\u001b[0m\u001b[0;32m    378\u001b[0m     \u001b[0mb\u001b[0m\u001b[1;33m,\u001b[0m \u001b[0mwrap\u001b[0m \u001b[1;33m=\u001b[0m \u001b[0m_makearray\u001b[0m\u001b[1;33m(\u001b[0m\u001b[0mb\u001b[0m\u001b[1;33m)\u001b[0m\u001b[1;33m\u001b[0m\u001b[0m\n\u001b[0;32m    379\u001b[0m     \u001b[0mt\u001b[0m\u001b[1;33m,\u001b[0m \u001b[0mresult_t\u001b[0m \u001b[1;33m=\u001b[0m \u001b[0m_commonType\u001b[0m\u001b[1;33m(\u001b[0m\u001b[0ma\u001b[0m\u001b[1;33m,\u001b[0m \u001b[0mb\u001b[0m\u001b[1;33m)\u001b[0m\u001b[1;33m\u001b[0m\u001b[0m\n",
      "\u001b[1;32mC:\\Anaconda3\\lib\\site-packages\\numpy\\linalg\\linalg.py\u001b[0m in \u001b[0;36m_assertNdSquareness\u001b[1;34m(*arrays)\u001b[0m\n\u001b[0;32m    209\u001b[0m     \u001b[1;32mfor\u001b[0m \u001b[0ma\u001b[0m \u001b[1;32min\u001b[0m \u001b[0marrays\u001b[0m\u001b[1;33m:\u001b[0m\u001b[1;33m\u001b[0m\u001b[0m\n\u001b[0;32m    210\u001b[0m         \u001b[1;32mif\u001b[0m \u001b[0mmax\u001b[0m\u001b[1;33m(\u001b[0m\u001b[0ma\u001b[0m\u001b[1;33m.\u001b[0m\u001b[0mshape\u001b[0m\u001b[1;33m[\u001b[0m\u001b[1;33m-\u001b[0m\u001b[1;36m2\u001b[0m\u001b[1;33m:\u001b[0m\u001b[1;33m]\u001b[0m\u001b[1;33m)\u001b[0m \u001b[1;33m!=\u001b[0m \u001b[0mmin\u001b[0m\u001b[1;33m(\u001b[0m\u001b[0ma\u001b[0m\u001b[1;33m.\u001b[0m\u001b[0mshape\u001b[0m\u001b[1;33m[\u001b[0m\u001b[1;33m-\u001b[0m\u001b[1;36m2\u001b[0m\u001b[1;33m:\u001b[0m\u001b[1;33m]\u001b[0m\u001b[1;33m)\u001b[0m\u001b[1;33m:\u001b[0m\u001b[1;33m\u001b[0m\u001b[0m\n\u001b[1;32m--> 211\u001b[1;33m             \u001b[1;32mraise\u001b[0m \u001b[0mLinAlgError\u001b[0m\u001b[1;33m(\u001b[0m\u001b[1;34m'Last 2 dimensions of the array must be square'\u001b[0m\u001b[1;33m)\u001b[0m\u001b[1;33m\u001b[0m\u001b[0m\n\u001b[0m\u001b[0;32m    212\u001b[0m \u001b[1;33m\u001b[0m\u001b[0m\n\u001b[0;32m    213\u001b[0m \u001b[1;32mdef\u001b[0m \u001b[0m_assertFinite\u001b[0m\u001b[1;33m(\u001b[0m\u001b[1;33m*\u001b[0m\u001b[0marrays\u001b[0m\u001b[1;33m)\u001b[0m\u001b[1;33m:\u001b[0m\u001b[1;33m\u001b[0m\u001b[0m\n",
      "\u001b[1;31mLinAlgError\u001b[0m: Last 2 dimensions of the array must be square"
     ]
    }
   ],
   "source": [
    "# % solve the system\n",
    "x = np.linalg.solve(L, b)\n",
    "print('x')\n",
    "print(x, '\\n')"
   ]
  },
  {
   "cell_type": "code",
   "execution_count": null,
   "metadata": {},
   "outputs": [],
   "source": []
  },
  {
   "cell_type": "code",
   "execution_count": null,
   "metadata": {},
   "outputs": [],
   "source": []
  },
  {
   "cell_type": "code",
   "execution_count": null,
   "metadata": {},
   "outputs": [],
   "source": []
  },
  {
   "cell_type": "code",
   "execution_count": null,
   "metadata": {},
   "outputs": [],
   "source": []
  },
  {
   "cell_type": "code",
   "execution_count": null,
   "metadata": {},
   "outputs": [],
   "source": []
  },
  {
   "cell_type": "code",
   "execution_count": null,
   "metadata": {},
   "outputs": [],
   "source": []
  },
  {
   "cell_type": "code",
   "execution_count": null,
   "metadata": {},
   "outputs": [],
   "source": []
  },
  {
   "cell_type": "code",
   "execution_count": null,
   "metadata": {},
   "outputs": [],
   "source": []
  },
  {
   "cell_type": "code",
   "execution_count": null,
   "metadata": {},
   "outputs": [],
   "source": []
  }
 ],
 "metadata": {
  "kernelspec": {
   "display_name": "Python 3",
   "language": "python",
   "name": "python3"
  },
  "language_info": {
   "codemirror_mode": {
    "name": "ipython",
    "version": 3
   },
   "file_extension": ".py",
   "mimetype": "text/x-python",
   "name": "python",
   "nbconvert_exporter": "python",
   "pygments_lexer": "ipython3",
   "version": "3.6.4"
  }
 },
 "nbformat": 4,
 "nbformat_minor": 2
}
