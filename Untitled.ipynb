{
 "cells": [
  {
   "cell_type": "code",
   "execution_count": 1,
   "metadata": {},
   "outputs": [],
   "source": [
    "import os\n",
    "import subprocess\n",
    "\n",
    "import pandas as pd\n",
    "import numpy as np\n",
    "# import seaborn as sns\n",
    "import matplotlib.pyplot as plt\n",
    "\n",
    "from Resources.FDS.PeriodicTableFDS653 import PeriodicTable as PT\n",
    "from Resources.FDS.ChemicalSpeciesFDS653 import ChemicalSpecies as CS\n",
    "\n",
    "# sns.set(style=\"darkgrid\")\n",
    "%matplotlib inline"
   ]
  },
  {
   "cell_type": "code",
   "execution_count": 2,
   "metadata": {},
   "outputs": [
    {
     "name": "stdout",
     "output_type": "stream",
     "text": [
      "12.0107 1.00794 15.9994 14.0067 35.453\n"
     ]
    }
   ],
   "source": [
    "# define atomic weights\n",
    "W_C = PT['C'][1]\n",
    "W_H = PT['H'][1]\n",
    "W_O = PT['O'][1]\n",
    "W_N = PT['N'][1]\n",
    "W_Cl = PT['Cl'][1]\n",
    "print(W_C, W_H, W_O, W_N, W_Cl)\n",
    "\n",
    "# Define hydrogen atomic fraction in soot.\n",
    "X_H = 0.1\n",
    "\n",
    "\n",
    "# Define yields.\n",
    "# All produced species treaded as yield.\n",
    "# Assumed Cl is completely consumed by HCl.\n",
    "# Remaining C, H, N, O produce CO2, H2O and N2.\n",
    "# y_CO = 0.22\n",
    "# y_HCl = 0.025204\n",
    "# y_HCN = 0.016\n",
    "# y_C7H5NO = 0.0003\n",
    "# y_C7H5N = 0.0018\n",
    "# y_Soot = 0.09\n",
    "# y_NO = 0.01\n",
    "# y_Cl2 = 0.014398\n",
    "\n",
    "y_CO = 0.16\n",
    "y_HCl = 0.025\n",
    "y_HCN = 0.012\n",
    "y_C7H5NO = 0.00005\n",
    "y_C7H5N = 0.00036\n",
    "y_Soot = 0.153\n",
    "y_NO = 0.007\n",
    "y_Cl2 = 0.014\n",
    "\n",
    "def reaction_coefficient(fuel_mol, component_mol\n",
    "                         , component_yield):\n",
    "    rc = fuel_mol/component_mol * component_yield\n",
    "    return rc"
   ]
  },
  {
   "cell_type": "code",
   "execution_count": 3,
   "metadata": {},
   "outputs": [
    {
     "name": "stdout",
     "output_type": "stream",
     "text": [
      "Fuel mol weight: 20.42132324 g/mol\n"
     ]
    }
   ],
   "source": [
    "fuel_molecule = [['C', 1.0],\n",
    "                 ['H', 0.081],\n",
    "                 ['O', 0.309],\n",
    "                 ['N', 0.105],\n",
    "                 ['Cl', 0.054]]\n",
    "\n",
    "mol_weight_fuel = 0\n",
    "for element in fuel_molecule:\n",
    "    mol_weight_fuel += PT[element[0]][1] * element[1]\n",
    "\n",
    "print('Fuel mol weight: {} g/mol'.format(mol_weight_fuel))"
   ]
  },
  {
   "cell_type": "code",
   "execution_count": 4,
   "metadata": {},
   "outputs": [
    {
     "name": "stdout",
     "output_type": "stream",
     "text": [
      "Element matrix:\n",
      "[[1.    0.    1.    0.    1.    7.    7.    0.    2.    0.    0.    0.\n",
      "  1.    0.9  ]\n",
      " [0.081 0.    0.    1.    1.    5.    5.    0.    0.    2.    0.    0.\n",
      "  0.    0.1  ]\n",
      " [0.309 2.    1.    0.    0.    1.    0.    1.    0.    1.    0.    0.\n",
      "  2.    0.   ]\n",
      " [0.105 0.    0.    0.    1.    1.    1.    1.    0.    0.    0.    2.\n",
      "  0.    0.   ]\n",
      " [0.054 0.    0.    1.    0.    0.    0.    0.    0.    0.    2.    0.\n",
      "  0.    0.   ]]\n"
     ]
    }
   ],
   "source": [
    "# define primitive species\n",
    "#\n",
    "# CO2, CO, HCl, HCN, C7H5NO, C7H5N,  \n",
    "# NO, CC, H2O, Cl2, N2, Soot\n",
    "\n",
    "i_PU     = 0\n",
    "i_O2     = 1\n",
    "i_CO     = 2\n",
    "i_HCl    = 3\n",
    "i_HCN    = 4\n",
    "i_C7H5NO = 5\n",
    "i_C7H5N  = 6\n",
    "i_NO     = 7\n",
    "i_CC     = 8\n",
    "i_H2O    = 9\n",
    "i_Cl2    = 10\n",
    "i_N2     = 11\n",
    "i_CO2    = 12\n",
    "i_Soot   = 13\n",
    "\n",
    "\n",
    "n_spec_list = [i_PU, i_O2, i_CO, i_HCl, i_HCN, i_C7H5NO, i_C7H5N, i_NO, i_CC, i_H2O, i_Cl2, i_N2, i_CO2, i_Soot]\n",
    "n_species = 14\n",
    "\n",
    "chem_name_list = [\"PIR\", \"OXYGEN\", \"CARBON MONOXIDE\", \"HYDROGEN CHLORIDE\", \n",
    "                  \"HYDROGEN CYANIDE\", \"ISO\", \"NITRIL\", \"NITROGEN MONOXIDE\", \n",
    "                  \"PAK\", \"WATER VAPOR\", \"CHLORINE\", \"NITROGEN\", \"CARBON DIOXIDE\", \n",
    "                  \"soot\"]\n",
    "\n",
    "# define the element matrix (number of atoms [rows] for each primitive species\n",
    "# [columns])\n",
    "#                  0  1  2  3  4  5  6  7  8  9 10  11  12  13\n",
    "E = np.array([[1.000, 0, 1, 0, 1, 7, 7, 0, 2, 0, 0,  0,  1, (1-X_H)],  # C\n",
    "              [0.081, 0, 0, 1, 1, 5, 5, 0, 0, 2, 0,  0,  0,  X_H   ],  # H\n",
    "              [0.309, 2, 1, 0, 0, 1, 0, 1, 0, 1, 0,  0,  2,  0     ],  # O\n",
    "              [0.105, 0, 0, 0, 1, 1, 1, 1, 0, 0, 0,  2,  0,  0     ],  # N\n",
    "              [0.054, 0, 0, 1, 0, 0, 0, 0, 0, 0, 2,  0,  0,  0     ]])  # CL\n",
    "\n",
    "print('Element matrix:')\n",
    "print(E)"
   ]
  },
  {
   "cell_type": "code",
   "execution_count": 5,
   "metadata": {},
   "outputs": [
    {
     "data": {
      "text/plain": [
       "array([[1.   ],\n",
       "       [0.081],\n",
       "       [0.309],\n",
       "       [0.105],\n",
       "       [0.054]])"
      ]
     },
     "execution_count": 5,
     "metadata": {},
     "output_type": "execute_result"
    }
   ],
   "source": [
    "len(chem_name_list)\n",
    "E[:, [i_PU]]"
   ]
  },
  {
   "cell_type": "code",
   "execution_count": 6,
   "metadata": {},
   "outputs": [
    {
     "name": "stdout",
     "output_type": "stream",
     "text": [
      "Volume fractions of FUEL\n",
      "[1. 0. 0. 0. 0. 0. 0. 0. 0. 0. 0. 0. 0. 0.] \n",
      "\n"
     ]
    }
   ],
   "source": [
    "# define volume fractions of fuel mixture (assumed known)\n",
    "vol_fuel = np.zeros((n_species))\n",
    "vol_fuel[i_PU]        = 100.0\n",
    "vol_fuel = vol_fuel/np.sum(vol_fuel)\n",
    "print('Volume fractions of FUEL')\n",
    "print(vol_fuel, '\\n')"
   ]
  },
  {
   "cell_type": "code",
   "execution_count": 7,
   "metadata": {},
   "outputs": [
    {
     "name": "stdout",
     "output_type": "stream",
     "text": [
      "Primitive species molecular weights:\n",
      "[ 20.42132324  31.9988      28.0101      36.46094     27.02534\n",
      " 119.1207     103.1213      30.0061      24.0214      18.01528\n",
      "  70.906       28.0134      44.0095      10.910424  ]\n"
     ]
    }
   ],
   "source": [
    "#primitive species molecular weights\n",
    "A = np.array([W_C, W_H, W_O, W_N, W_Cl])\n",
    "W = np.dot(E.T, A)\n",
    "\n",
    "print('Primitive species molecular weights:')\n",
    "print(W)"
   ]
  },
  {
   "cell_type": "code",
   "execution_count": 8,
   "metadata": {},
   "outputs": [],
   "source": [
    "# Define volume fraction of air.\n",
    "vol_frac_air = np.zeros(n_species)\n",
    "\n",
    "# vol_frac_air[i_O2] = 1 / 4.76\n",
    "# vol_frac_air[i_N2] = 3.76 / 4.76\n",
    "vol_frac_air[i_O2] = 0.21\n",
    "vol_frac_air[i_N2] = 0.79\n"
   ]
  },
  {
   "cell_type": "code",
   "execution_count": 9,
   "metadata": {},
   "outputs": [
    {
     "name": "stdout",
     "output_type": "stream",
     "text": [
      "Molecular weight of AIR\n",
      "28.76577365168055 \n",
      "\n"
     ]
    }
   ],
   "source": [
    "W_1 = 1./np.sum(vol_frac_air/W)\n",
    "print('Molecular weight of AIR')\n",
    "print(W_1, '\\n')"
   ]
  },
  {
   "cell_type": "code",
   "execution_count": 10,
   "metadata": {},
   "outputs": [
    {
     "data": {
      "text/plain": [
       "array([0.00000000e+00, 0.00000000e+00, 1.16651198e-01, 1.40021920e-02,\n",
       "       9.06763352e-03, 8.57169377e-06, 7.12915408e-05, 4.76400674e-03,\n",
       "       0.00000000e+00, 0.00000000e+00, 0.00000000e+00, 0.00000000e+00,\n",
       "       0.00000000e+00, 2.86374064e-01])"
      ]
     },
     "execution_count": 10,
     "metadata": {},
     "output_type": "execute_result"
    }
   ],
   "source": [
    "reac_coeff = np.zeros(n_species)\n",
    "\n",
    "\n",
    "\n",
    "# y_HCN = 0.016\n",
    "# y_C7H5NO = 0.0003\n",
    "# y_C7H5N = 0.0018\n",
    "# y_NO = 0.01\n",
    "\n",
    "# compute what we know so far\n",
    "# Basically consumption known from yields.\n",
    "reac_coeff[i_CO]   = reaction_coefficient(mol_weight_fuel, \n",
    "                                          W[i_CO], y_CO)\n",
    "reac_coeff[i_Soot] = reaction_coefficient(mol_weight_fuel, \n",
    "                                          W[i_Soot], y_Soot)\n",
    "reac_coeff[i_HCl] = reaction_coefficient(mol_weight_fuel,\n",
    "                                        W[i_HCl], y_HCl)\n",
    "reac_coeff[i_HCN] = reaction_coefficient(mol_weight_fuel,\n",
    "                                        W[i_HCN], y_HCN)\n",
    "reac_coeff[i_C7H5NO] = reaction_coefficient(mol_weight_fuel,\n",
    "                                        W[i_C7H5NO], y_C7H5NO)\n",
    "reac_coeff[i_C7H5N] = reaction_coefficient(mol_weight_fuel,\n",
    "                                        W[i_C7H5N], y_C7H5N)\n",
    "reac_coeff[i_NO] = reaction_coefficient(mol_weight_fuel,\n",
    "                                        W[i_NO], y_NO)\n",
    "# reac_coeff[i_Cl2] = reaction_coefficient(mol_weight_fuel,\n",
    "#                                         W[i_Cl2], y_Cl2)\n",
    "\n",
    "reac_coeff"
   ]
  },
  {
   "cell_type": "code",
   "execution_count": 11,
   "metadata": {},
   "outputs": [
    {
     "name": "stdout",
     "output_type": "stream",
     "text": [
      "b\n",
      "[0.61598547 0.02889345 0.18757622 0.0910885  0.03999781] \n",
      "\n"
     ]
    }
   ],
   "source": [
    "# linear system right hand side\n",
    "b = np.dot(E, vol_fuel - reac_coeff)\n",
    "print('b')\n",
    "print(b, '\\n')"
   ]
  },
  {
   "cell_type": "code",
   "execution_count": 12,
   "metadata": {},
   "outputs": [
    {
     "name": "stdout",
     "output_type": "stream",
     "text": [
      "L\n",
      "[[0.   1.   0.   0.   0.  ]\n",
      " [0.   0.   2.   0.   0.  ]\n",
      " [0.42 2.   1.   0.   0.  ]\n",
      " [1.58 0.   0.   2.   0.  ]\n",
      " [0.   0.   0.   0.   2.  ]] \n",
      "\n"
     ]
    }
   ],
   "source": [
    "# matrix\n",
    "L = np.array([np.dot(E, vol_frac_air),\n",
    "              E[:, i_CO2],\n",
    "              E[:, i_H2O],\n",
    "              E[:, i_N2],\n",
    "              E[:, i_Cl2]]).T\n",
    "print('L')\n",
    "print(L, '\\n')"
   ]
  },
  {
   "cell_type": "code",
   "execution_count": 13,
   "metadata": {},
   "outputs": [
    {
     "name": "stdout",
     "output_type": "stream",
     "text": [
      "x\n",
      "[-2.52105105  0.61598547  0.01444673  2.03717458  0.0199989 ] \n",
      "\n"
     ]
    }
   ],
   "source": [
    "# % solve the system\n",
    "x = np.linalg.solve(L, b)\n",
    "print('x')\n",
    "print(x, '\\n')"
   ]
  },
  {
   "cell_type": "code",
   "execution_count": 14,
   "metadata": {},
   "outputs": [],
   "source": [
    "nu_1                  = x[0]  # background stoichiometric coefficient\n",
    "reac_coeff[i_CO2] = x[1]\n",
    "reac_coeff[i_H2O] = x[2]\n",
    "reac_coeff[i_N2]  = x[3]\n",
    "reac_coeff[i_Cl2] = x[4]"
   ]
  },
  {
   "cell_type": "code",
   "execution_count": 15,
   "metadata": {},
   "outputs": [
    {
     "data": {
      "text/plain": [
       "array([0.00000000e+00, 0.00000000e+00, 3.74056529e-02, 4.48997645e-03,\n",
       "       2.90764911e-03, 2.74861988e-06, 2.28605164e-05, 1.52763783e-03,\n",
       "       0.00000000e+00, 4.63252180e-03, 6.41289652e-03, 6.53245285e-01,\n",
       "       1.97523378e-01, 9.18293940e-02])"
      ]
     },
     "execution_count": 15,
     "metadata": {},
     "output_type": "execute_result"
    }
   ],
   "source": [
    "nu_2 = -1        # fuel stoichiometric coefficient\n",
    "nu_3 = sum(reac_coeff)  # prod stoichiometric coefficient\n",
    "\n",
    "reac_coeff = reac_coeff/nu_3  # normalized product volume fractions\n",
    "reac_coeff"
   ]
  },
  {
   "cell_type": "code",
   "execution_count": 16,
   "metadata": {},
   "outputs": [
    {
     "name": "stdout",
     "output_type": "stream",
     "text": [
      "Mass balance\n",
      "1.4210854715202004e-14 \n",
      "\n"
     ]
    }
   ],
   "source": [
    "\n",
    "# check mass balance (should be 0)\n",
    "print('Mass balance')\n",
    "print(nu_1*np.sum(vol_frac_air*W) + nu_2*np.sum(vol_fuel*W) + nu_3*np.sum(reac_coeff*W), '\\n')\n"
   ]
  },
  {
   "cell_type": "code",
   "execution_count": 17,
   "metadata": {},
   "outputs": [],
   "source": [
    "# String templates of species input lines.\n",
    "SPECTEMPLUMP = \"&SPEC ID='{}',\"\n",
    "SPECID = \"SPEC_ID({})='{}', \"\n",
    "SPECVOLFRAC = \"VOLUME_FRACTION({})={}, \"\n",
    "SPECMASSFRAC = \", MASS_FRACTION({})={}\"\n",
    "SPECLUMPCOMP = \", LUMPED_COMPONENT_ONLY=.{}.\"\n",
    "SPECBACKGROUND = \", BACKGROUND=.{}.\"\n",
    "\n",
    "# REACTEMPLATE = \"&REAC FUEL='label', SPEC_ID_NU='fuel','air','PRODUCTS',\" + \\\n",
    "#            \"      NU=nufuel,nuair,nuprod, HEAT_OF_COMBUSTION=hoc /\"\n",
    "\n",
    "# String templates for reaction parameters.\n",
    "REACTEMP = \"&REAC FUEL='{}'{}{} /\"\n",
    "REACSPECIDNU = \", SPEC_ID_NU='{}','{}','{}', NU=-{},-{},{}\"\n",
    "REACHOC = \", HEAT_OF_COMBUSTION={}\"\n",
    "\n",
    "FORMTEMP = \"C{}H{}O{}N{}Cl{}\"\n",
    "# String template for species.\n",
    "SPECIDTEMP = \"&SPEC ID='{}', LUMPED_COMPONENT_ONLY=.{}. /\""
   ]
  },
  {
   "cell_type": "code",
   "execution_count": 18,
   "metadata": {},
   "outputs": [
    {
     "data": {
      "text/plain": [
       "[\"&SPEC ID='PIR', LUMPED_COMPONENT_ONLY=.TRUE. /\",\n",
       " \"&SPEC ID='OXYGEN', LUMPED_COMPONENT_ONLY=.TRUE. /\",\n",
       " \"&SPEC ID='CARBON MONOXIDE', LUMPED_COMPONENT_ONLY=.TRUE. /\",\n",
       " \"&SPEC ID='HYDROGEN CHLORIDE', LUMPED_COMPONENT_ONLY=.TRUE. /\",\n",
       " \"&SPEC ID='HYDROGEN CYANIDE', LUMPED_COMPONENT_ONLY=.TRUE. /\",\n",
       " \"&SPEC ID='ISO', LUMPED_COMPONENT_ONLY=.TRUE. /\",\n",
       " \"&SPEC ID='NITRIL', LUMPED_COMPONENT_ONLY=.TRUE. /\",\n",
       " \"&SPEC ID='NITROGEN MONOXIDE', LUMPED_COMPONENT_ONLY=.TRUE. /\",\n",
       " \"&SPEC ID='PAK', LUMPED_COMPONENT_ONLY=.TRUE. /\",\n",
       " \"&SPEC ID='WATER VAPOR', LUMPED_COMPONENT_ONLY=.TRUE. /\",\n",
       " \"&SPEC ID='CHLORINE', LUMPED_COMPONENT_ONLY=.TRUE. /\",\n",
       " \"&SPEC ID='NITROGEN', LUMPED_COMPONENT_ONLY=.TRUE. /\",\n",
       " \"&SPEC ID='CARBON DIOXIDE', LUMPED_COMPONENT_ONLY=.TRUE. /\",\n",
       " \"&SPEC ID='soot', LUMPED_COMPONENT_ONLY=.TRUE. /\"]"
      ]
     },
     "execution_count": 18,
     "metadata": {},
     "output_type": "execute_result"
    }
   ],
   "source": [
    "spec_list = []\n",
    "for i in range(len(chem_name_list)):\n",
    "    ml = E[:, [n_spec_list[i]]].tolist()\n",
    "    nf = FORMTEMP.format(ml[0][0], ml[1][0], ml[2][0], ml[3][0], ml[4][0])\n",
    "    new = SPECIDTEMP.format(chem_name_list[i],\"TRUE\", nf)\n",
    "    spec_list.append(new)\n",
    "\n",
    "    \n",
    "spec_list\n",
    "\n"
   ]
  },
  {
   "cell_type": "code",
   "execution_count": 19,
   "metadata": {},
   "outputs": [],
   "source": [
    "# spec_comps = []\n",
    "\n",
    "spec_list.append(SPECTEMPLUMP.format(\"PRODUCTS\"))\n",
    "\n",
    "counter = 1\n",
    "for i in range(len(reac_coeff)):\n",
    "    if reac_coeff.tolist()[i] == 0.0:\n",
    "        continue\n",
    "    sp_id = SPECID.format(counter, chem_name_list[i])\n",
    "    v_frac = SPECVOLFRAC.format(counter, reac_coeff.tolist()[i])\n",
    "    \n",
    "    spec_list.append(\"      {}{}\".format(sp_id, v_frac))\n",
    "    \n",
    "    counter += 1\n",
    "\n",
    "spec_list[-1] = spec_list[-1][:-2]+\" /\""
   ]
  },
  {
   "cell_type": "code",
   "execution_count": 20,
   "metadata": {},
   "outputs": [
    {
     "data": {
      "text/plain": [
       "[\"&SPEC ID='PIR', LUMPED_COMPONENT_ONLY=.TRUE. /\",\n",
       " \"&SPEC ID='OXYGEN', LUMPED_COMPONENT_ONLY=.TRUE. /\",\n",
       " \"&SPEC ID='CARBON MONOXIDE', LUMPED_COMPONENT_ONLY=.TRUE. /\",\n",
       " \"&SPEC ID='HYDROGEN CHLORIDE', LUMPED_COMPONENT_ONLY=.TRUE. /\",\n",
       " \"&SPEC ID='HYDROGEN CYANIDE', LUMPED_COMPONENT_ONLY=.TRUE. /\",\n",
       " \"&SPEC ID='ISO', LUMPED_COMPONENT_ONLY=.TRUE. /\",\n",
       " \"&SPEC ID='NITRIL', LUMPED_COMPONENT_ONLY=.TRUE. /\",\n",
       " \"&SPEC ID='NITROGEN MONOXIDE', LUMPED_COMPONENT_ONLY=.TRUE. /\",\n",
       " \"&SPEC ID='PAK', LUMPED_COMPONENT_ONLY=.TRUE. /\",\n",
       " \"&SPEC ID='WATER VAPOR', LUMPED_COMPONENT_ONLY=.TRUE. /\",\n",
       " \"&SPEC ID='CHLORINE', LUMPED_COMPONENT_ONLY=.TRUE. /\",\n",
       " \"&SPEC ID='NITROGEN', LUMPED_COMPONENT_ONLY=.TRUE. /\",\n",
       " \"&SPEC ID='CARBON DIOXIDE', LUMPED_COMPONENT_ONLY=.TRUE. /\",\n",
       " \"&SPEC ID='soot', LUMPED_COMPONENT_ONLY=.TRUE. /\",\n",
       " \"&SPEC ID='PRODUCTS',\",\n",
       " \"      SPEC_ID(1)='CARBON MONOXIDE', VOLUME_FRACTION(1)=0.03740565285958161, \",\n",
       " \"      SPEC_ID(2)='HYDROGEN CHLORIDE', VOLUME_FRACTION(2)=0.004489976453064254, \",\n",
       " \"      SPEC_ID(3)='HYDROGEN CYANIDE', VOLUME_FRACTION(3)=0.002907649109582434, \",\n",
       " \"      SPEC_ID(4)='ISO', VOLUME_FRACTION(4)=2.74861987977889e-06, \",\n",
       " \"      SPEC_ID(5)='NITRIL', VOLUME_FRACTION(5)=2.2860516436612768e-05, \",\n",
       " \"      SPEC_ID(6)='NITROGEN MONOXIDE', VOLUME_FRACTION(6)=0.0015276378261701723, \",\n",
       " \"      SPEC_ID(7)='WATER VAPOR', VOLUME_FRACTION(7)=0.004632521802349434, \",\n",
       " \"      SPEC_ID(8)='CHLORINE', VOLUME_FRACTION(8)=0.006412896521837181, \",\n",
       " \"      SPEC_ID(9)='NITROGEN', VOLUME_FRACTION(9)=0.6532452847305448, \",\n",
       " \"      SPEC_ID(10)='CARBON DIOXIDE', VOLUME_FRACTION(10)=0.1975233775987497, \",\n",
       " \"      SPEC_ID(11)='soot', VOLUME_FRACTION(11)=0.09182939396180406 /\"]"
      ]
     },
     "execution_count": 20,
     "metadata": {},
     "output_type": "execute_result"
    }
   ],
   "source": [
    "spec_list"
   ]
  },
  {
   "cell_type": "code",
   "execution_count": 21,
   "metadata": {},
   "outputs": [
    {
     "data": {
      "text/plain": [
       "[0.0,\n",
       " 0.0,\n",
       " 0.03740565285958161,\n",
       " 0.004489976453064254,\n",
       " 0.002907649109582434,\n",
       " 2.74861987977889e-06,\n",
       " 2.2860516436612768e-05,\n",
       " 0.0015276378261701723,\n",
       " 0.0,\n",
       " 0.004632521802349434,\n",
       " 0.006412896521837181,\n",
       " 0.6532452847305448,\n",
       " 0.1975233775987497,\n",
       " 0.09182939396180406]"
      ]
     },
     "execution_count": 21,
     "metadata": {},
     "output_type": "execute_result"
    }
   ],
   "source": [
    "reac_coeff.tolist()"
   ]
  },
  {
   "cell_type": "code",
   "execution_count": 22,
   "metadata": {},
   "outputs": [],
   "source": [
    "fn = \"REAC.txt\"\n",
    "with open(fn, \"w\") as newfile:\n",
    "    for i in spec_list:\n",
    "        newfile.write(i+\"\\n\")\n"
   ]
  },
  {
   "cell_type": "code",
   "execution_count": 23,
   "metadata": {},
   "outputs": [
    {
     "data": {
      "text/plain": [
       "[]"
      ]
     },
     "execution_count": 23,
     "metadata": {},
     "output_type": "execute_result"
    }
   ],
   "source": [
    "spec_list = []\n",
    "spec_list"
   ]
  },
  {
   "cell_type": "code",
   "execution_count": null,
   "metadata": {},
   "outputs": [],
   "source": []
  },
  {
   "cell_type": "code",
   "execution_count": null,
   "metadata": {},
   "outputs": [],
   "source": []
  }
 ],
 "metadata": {
  "kernelspec": {
   "display_name": "Python 3",
   "language": "python",
   "name": "python3"
  },
  "language_info": {
   "codemirror_mode": {
    "name": "ipython",
    "version": 3
   },
   "file_extension": ".py",
   "mimetype": "text/x-python",
   "name": "python",
   "nbconvert_exporter": "python",
   "pygments_lexer": "ipython3",
   "version": "3.6.4"
  }
 },
 "nbformat": 4,
 "nbformat_minor": 2
}
